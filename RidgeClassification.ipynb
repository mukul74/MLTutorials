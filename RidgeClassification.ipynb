{
 "cells": [
  {
   "cell_type": "markdown",
   "metadata": {},
   "source": [
    "# Ridge Classification\n",
    "> 1.0 Converts the binary targets to (-1,1) and then applies the ridge regression to the specific task., optimizing the same objective as above.\\\n",
    "> 2.0 The predicted class corresponds to the sign of the regressor's prediction. \\\n",
    "> 3.0 For multi class this is treated as multi class prediction. And the predicted class is highest value."
   ]
  },
  {
   "cell_type": "markdown",
   "metadata": {},
   "source": [
    "# How a regressor is used for classification\n",
    "> 1.0 How can we use the regression for a classification task.\\\n",
    "> 2.0 RigdeClassifier can be significantly faster than eg: LogisticRegression with a high number of classes because it can computr the projection matrix $ ( (X^TX)^{-1}X^T) $ only once.\\\n",
    "> 3.0 This is also named as Least Square Support Vector Machines with Linear Kernel"
   ]
  },
  {
   "cell_type": "markdown",
   "metadata": {},
   "source": [
    "# Bag of Words\n"
   ]
  },
  {
   "cell_type": "markdown",
   "metadata": {},
   "source": []
  }
 ],
 "metadata": {
  "kernelspec": {
   "display_name": "Python 3.7.11 ('MasterEnv')",
   "language": "python",
   "name": "python3"
  },
  "language_info": {
   "name": "python",
   "version": "3.7.11"
  },
  "orig_nbformat": 4,
  "vscode": {
   "interpreter": {
    "hash": "21524a3d73d3b5bda7c6f19a3d8bb58cbe4093157239961636bf441e5c3b4dda"
   }
  }
 },
 "nbformat": 4,
 "nbformat_minor": 2
}
